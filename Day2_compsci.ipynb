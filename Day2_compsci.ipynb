{
  "nbformat": 4,
  "nbformat_minor": 0,
  "metadata": {
    "colab": {
      "provenance": [],
      "collapsed_sections": [
        "5RdgEw6kIeRr",
        "Tsf-fESdxu-_",
        "XDzSTACDzfR3",
        "rz3EY3QU2k-s",
        "Wu2i8I194kCk",
        "Nsamxw0H7hNm",
        "rt37PM3y8pke",
        "y0tySUc1_NZ8",
        "AeTstVBNBmkQ",
        "CFfAv4t6Ho7u",
        "eWqqBNPIKQ7C",
        "mCOk2dMPl3c5",
        "wr71SwYZpygB",
        "LpDwyRRvqXXQ",
        "F6GhE6carYji",
        "YGeEwNU9sPOa"
      ],
      "authorship_tag": "ABX9TyOdFC97Bqs8QIQaWfMPdnHh",
      "include_colab_link": true
    },
    "kernelspec": {
      "name": "python3",
      "display_name": "Python 3"
    },
    "language_info": {
      "name": "python"
    }
  },
  "cells": [
    {
      "cell_type": "markdown",
      "metadata": {
        "id": "view-in-github",
        "colab_type": "text"
      },
      "source": [
        "<a href=\"https://colab.research.google.com/github/ChrisM9041/ALP-CompSci/blob/main/Day2_compsci.ipynb\" target=\"_parent\"><img src=\"https://colab.research.google.com/assets/colab-badge.svg\" alt=\"Open In Colab\"/></a>"
      ]
    },
    {
      "cell_type": "markdown",
      "source": [
        "#Day2"
      ],
      "metadata": {
        "id": "1kRogNX4xndk"
      }
    },
    {
      "cell_type": "markdown",
      "source": [
        "#Loops"
      ],
      "metadata": {
        "id": "5RdgEw6kIeRr"
      }
    },
    {
      "cell_type": "markdown",
      "source": [
        "###Iterations with a counter"
      ],
      "metadata": {
        "id": "Tsf-fESdxu-_"
      }
    },
    {
      "cell_type": "code",
      "execution_count": 65,
      "metadata": {
        "colab": {
          "base_uri": "https://localhost:8080/"
        },
        "id": "FXA-lfUcxWwc",
        "outputId": "6967031e-9b62-4059-ea10-d1da4bfb59ba"
      },
      "outputs": [
        {
          "output_type": "stream",
          "name": "stdout",
          "text": [
            "This code is inside the loop\n",
            "1\n",
            "This code is inside the loop\n",
            "2\n",
            "This code is inside the loop\n",
            "3\n",
            "This code is inside the loop\n",
            "4\n",
            "The loop has endend\n"
          ]
        }
      ],
      "source": [
        "counter = 1\n",
        "while counter < 5:\n",
        "  print(\"This code is inside the loop\")\n",
        "  print(counter)\n",
        "  counter += 1\n",
        "\n",
        "print(\"The loop has endend\")"
      ]
    },
    {
      "cell_type": "markdown",
      "source": [
        "###Task 2"
      ],
      "metadata": {
        "id": "XDzSTACDzfR3"
      }
    },
    {
      "cell_type": "code",
      "source": [
        "num = int(input(\"What do you want to count down from? \"))\n",
        "\n",
        "while num > 0 :\n",
        "  print(num)\n",
        "  num -=1\n",
        "\n",
        "print(\"Blast Off\")"
      ],
      "metadata": {
        "colab": {
          "base_uri": "https://localhost:8080/"
        },
        "id": "WbKnBgzBzhMH",
        "outputId": "4a768c88-1e03-473a-e799-fd3875b4c96f"
      },
      "execution_count": 67,
      "outputs": [
        {
          "output_type": "stream",
          "name": "stdout",
          "text": [
            "What do you want to count down from? 3\n",
            "3\n",
            "2\n",
            "1\n",
            "Blast Off\n"
          ]
        }
      ]
    },
    {
      "cell_type": "markdown",
      "source": [
        "###Predict & Run"
      ],
      "metadata": {
        "id": "rz3EY3QU2k-s"
      }
    },
    {
      "cell_type": "code",
      "source": [
        "#I predict that this will work as a sort of username login with it only ending when the user enters the correct name\n",
        "\n",
        "correctUserName = \"chris\"\n",
        "\n",
        "userName = input(\"Please enter your user name. \").lower()\n",
        "\n",
        "while userName != correctUserName:\n",
        "  userName = input(\"Username incorrect, please try again. \")\n",
        "\n",
        "print(\"Username Accepted.\")"
      ],
      "metadata": {
        "colab": {
          "base_uri": "https://localhost:8080/"
        },
        "id": "ayQxHxrL2ouG",
        "outputId": "d8eed8a4-1796-4367-ed9c-66085c656431"
      },
      "execution_count": 68,
      "outputs": [
        {
          "output_type": "stream",
          "name": "stdout",
          "text": [
            "Please enter your user name. Chris\n",
            "Username Accepted.\n"
          ]
        }
      ]
    },
    {
      "cell_type": "markdown",
      "source": [
        "###Password Check"
      ],
      "metadata": {
        "id": "Wu2i8I194kCk"
      }
    },
    {
      "cell_type": "code",
      "source": [
        "pass1 = input(\"Please choose a password. \")\n",
        "pass2 = input(\"Please re-enter password. \")\n",
        "\n",
        "while pass1 != pass2 :\n",
        "  pass1 = input(\"Passwords did not match, try again. \")\n",
        "  pass2 = input(\"Please re-enter password. \")\n",
        "\n",
        "print(\"Password Approved. \")"
      ],
      "metadata": {
        "id": "txXpBJ234n-m",
        "colab": {
          "base_uri": "https://localhost:8080/"
        },
        "outputId": "c990b605-7694-49bb-b284-7aff6de290a7"
      },
      "execution_count": 69,
      "outputs": [
        {
          "output_type": "stream",
          "name": "stdout",
          "text": [
            "Please choose a password. 123\n",
            "Please re-enter password. 122\n",
            "Passwords did not match, try again. 123\n",
            "Please re-enter password. 123\n",
            "Password Approved. \n"
          ]
        }
      ]
    },
    {
      "cell_type": "markdown",
      "source": [],
      "metadata": {
        "id": "NjjAyEj67hMf"
      }
    },
    {
      "cell_type": "markdown",
      "source": [
        "#Lists"
      ],
      "metadata": {
        "id": "Nsamxw0H7hNm"
      }
    },
    {
      "cell_type": "markdown",
      "source": [
        "###Fruit"
      ],
      "metadata": {
        "id": "rt37PM3y8pke"
      }
    },
    {
      "cell_type": "code",
      "source": [
        "fruits = [\"Apple\", \"Bannana\", \"Orange\", \"Strawberry\", \"Melon\", \"Grape\"]\n",
        "num = int(input(\"What fruit do you want to see (1, 2, 3, 4, 5, 6) \"))\n",
        "num -= 1\n",
        "\n",
        "print(fruits[0] + \" \" + fruits[1] + \" \" + fruits[2] + \" \" + fruits[3] + \" \" + fruits[4] + \" \" + fruits[5])\n",
        "print(fruits[num])"
      ],
      "metadata": {
        "colab": {
          "base_uri": "https://localhost:8080/"
        },
        "id": "hXvp98Mb8pUE",
        "outputId": "f165fa68-4dc8-4ca9-c2be-521c5b98c60a"
      },
      "execution_count": 70,
      "outputs": [
        {
          "output_type": "stream",
          "name": "stdout",
          "text": [
            "What fruit do you want to see (1, 2, 3, 4, 5, 6) 5\n",
            "Apple Bannana Orange Strawberry Melon Grape\n",
            "Melon\n"
          ]
        }
      ]
    },
    {
      "cell_type": "markdown",
      "source": [
        "###Change Items in a List"
      ],
      "metadata": {
        "id": "y0tySUc1_NZ8"
      }
    },
    {
      "cell_type": "code",
      "source": [
        "food = [\"bacon\", \"cheese\", \"pasta\", \"beans\"]\n",
        "\n",
        "food.append(\"tomatoes\") # adds tomatoes to end of list\n",
        "food.insert(1, \"ice cream\") # inserts ice cream into index 1\n",
        "food.remove(\"cheese\") # removes cheese from list\n",
        "food.pop() #reomves last item in list\n",
        "\n",
        "# list should be bacon, ice crean, pasta, beans\n",
        "\n",
        "print(food)"
      ],
      "metadata": {
        "colab": {
          "base_uri": "https://localhost:8080/"
        },
        "id": "kLWz2WhG_Qic",
        "outputId": "8860ea1c-237c-4165-e392-a3bb5485bd40"
      },
      "execution_count": null,
      "outputs": [
        {
          "output_type": "stream",
          "name": "stdout",
          "text": [
            "['bacon', 'ice cream', 'pasta', 'beans']\n"
          ]
        }
      ]
    },
    {
      "cell_type": "markdown",
      "source": [
        "###Zombie Game"
      ],
      "metadata": {
        "id": "AeTstVBNBmkQ"
      }
    },
    {
      "cell_type": "code",
      "source": [
        "weapons = [\"sword\", \"knife\", \"bat\"]\n",
        "\n",
        "zombieWeakness = \"bat\"\n",
        "\n",
        "print(\"You encountered a zombie prepare to fight\")\n",
        "print(f\"These are the weapons in your list{weapons}\")\n",
        "weapon = int(input(\"If you want you can choose a weapon from the list (1), or you can choose your own(2). \"))\n",
        "\n",
        "if weapon == 2 :\n",
        "  weaponAdd = input(\"What weapon do you choose to add. \")\n",
        "  weapons.append(weaponAdd)\n",
        "  print(weapons)\n",
        "  choiceNum = int(input(\"What weapon do you choose to fight (1, 2, 3, 4). \"))\n",
        "  choiceNum -=1\n",
        "else:\n",
        "  print(weapons)\n",
        "  choiceNum = int(input(\"What weapon do you choose to fight (1, 2, 3). \"))\n",
        "  choiceNum -=1\n",
        "\n",
        "choice = weapons[choiceNum]\n",
        "print(f\"You chose a {choice}\")\n",
        "\n",
        "if choice == zombieWeakness:\n",
        "  print(\"Congradulations, you won the fight.\")\n",
        "else:\n",
        "  print(\"Oh no, you lost.\")\n",
        "\n",
        "\n"
      ],
      "metadata": {
        "colab": {
          "base_uri": "https://localhost:8080/"
        },
        "id": "MLZuvqtRBtxy",
        "outputId": "05108123-0312-4ac1-ecb1-58f81cb71ffc"
      },
      "execution_count": null,
      "outputs": [
        {
          "output_type": "stream",
          "name": "stdout",
          "text": [
            "You encountered a zombie prepare to fight\n",
            "These are the weapons in your list['sword', 'knife', 'bat']\n",
            "If you want you can choose a weapon from the list (1), or you can choose your own(2). 1\n",
            "['sword', 'knife', 'bat']\n",
            "What weapon do you choose to fight (1, 2, 3). 2\n",
            "You chose a knife\n",
            "Oh no, you lost.\n"
          ]
        }
      ]
    },
    {
      "cell_type": "markdown",
      "source": [
        "#Functions"
      ],
      "metadata": {
        "id": "CFfAv4t6Ho7u"
      }
    },
    {
      "cell_type": "markdown",
      "source": [
        "###Calculator Using Functions"
      ],
      "metadata": {
        "id": "eWqqBNPIKQ7C"
      }
    },
    {
      "cell_type": "code",
      "source": [
        "choice = input(\"Would you like to add, subtract, multiply, or divide? \")\n",
        "number1 = int(input(\"What is the first number? \"))\n",
        "number2 = int(input(\"What is the second number? \"))\n",
        "\n",
        "def add(num1, num2):\n",
        "  return num1 + num2\n",
        "def subtract(num1, num2):\n",
        "  return num1 - num2\n",
        "def multiply(num1, num2):\n",
        "  return num1*num2\n",
        "def divide(num1, num2):\n",
        "  return num1/num2\n",
        "\n",
        "if choice == \"add\":\n",
        "  print(f\"answer = {add(number1, number2)}\")\n",
        "elif choice == \"subtract\":\n",
        "  print(f\"answer = {subtract(number1, number2)}\")\n",
        "elif choice == \"multiply\":\n",
        "  print(f\"answer = {multiply(number1, number2)}\")\n",
        "elif choice == \"divide\":\n",
        "  if number2 == 0:\n",
        "    print(\"Can't divide by 0\")\n",
        "  else:\n",
        "    print(f\"answer = {divide(number1, number2)}\")\n",
        "else:\n",
        "  print(\"Choice was not valid\")"
      ],
      "metadata": {
        "colab": {
          "base_uri": "https://localhost:8080/"
        },
        "id": "HWe5DJhIHuTl",
        "outputId": "0acd7774-3478-4de6-dd80-49c52b014c84"
      },
      "execution_count": null,
      "outputs": [
        {
          "output_type": "stream",
          "name": "stdout",
          "text": [
            "Would you like to add, subtract, multiply, or divide? multiply\n",
            "What is the first number? 7\n",
            "What is the second number? 8\n",
            "answer = 56\n"
          ]
        }
      ]
    },
    {
      "cell_type": "markdown",
      "source": [
        "#File Handling"
      ],
      "metadata": {
        "id": "mCOk2dMPl3c5"
      }
    },
    {
      "cell_type": "markdown",
      "source": [
        "###Read"
      ],
      "metadata": {
        "id": "wr71SwYZpygB"
      }
    },
    {
      "cell_type": "code",
      "source": [
        "myFile = open(\"test.txt\", \"r\")\n",
        "\n",
        "for line in myFile:\n",
        "  print(line)\n",
        "myFile.close"
      ],
      "metadata": {
        "id": "TiMOl7UDl-1F",
        "colab": {
          "base_uri": "https://localhost:8080/"
        },
        "outputId": "f3900e1c-6796-4d1a-df6b-6e93df2868b8"
      },
      "execution_count": 71,
      "outputs": [
        {
          "output_type": "stream",
          "name": "stdout",
          "text": [
            "Andy\n",
            "\n",
            "hehehheheheheheheheheheheh\n",
            "\n",
            "hehehheheheheheheheheheheh\n"
          ]
        },
        {
          "output_type": "execute_result",
          "data": {
            "text/plain": [
              "<function TextIOWrapper.close()>"
            ]
          },
          "metadata": {},
          "execution_count": 71
        }
      ]
    },
    {
      "cell_type": "markdown",
      "source": [
        "###Write"
      ],
      "metadata": {
        "id": "LpDwyRRvqXXQ"
      }
    },
    {
      "cell_type": "code",
      "source": [
        "myFile = open(\"test.txt\", \"w\")\n",
        "\n",
        "myFile.write(\"Andy\")\n",
        "\n",
        "myFile.close()"
      ],
      "metadata": {
        "id": "MLBvSPTqqZYp"
      },
      "execution_count": 72,
      "outputs": []
    },
    {
      "cell_type": "markdown",
      "source": [
        "###Append"
      ],
      "metadata": {
        "id": "F6GhE6carYji"
      }
    },
    {
      "cell_type": "code",
      "source": [
        "myFile = open(\"test.txt\", \"a\")\n",
        "\n",
        "myFile.write(\"Andy\")\n",
        "\n",
        "myFile.close()"
      ],
      "metadata": {
        "id": "ObMOH-THrbFo"
      },
      "execution_count": null,
      "outputs": []
    },
    {
      "cell_type": "markdown",
      "source": [
        "###Function"
      ],
      "metadata": {
        "id": "YGeEwNU9sPOa"
      }
    },
    {
      "cell_type": "code",
      "source": [
        "def paragraph(text):\n",
        "  myFile = open(\"test.txt\", \"a\")\n",
        "  myFile.write(\"\\n\")\n",
        "  myFile.write(text)\n",
        "  myFile.close()\n",
        "\n",
        "\n",
        "paragraph(\"hehehheheheheheheheheheheh\")"
      ],
      "metadata": {
        "id": "vRGp3zbZsUlO"
      },
      "execution_count": null,
      "outputs": []
    },
    {
      "cell_type": "markdown",
      "source": [
        "#ForLoops"
      ],
      "metadata": {
        "id": "M7S6NLg_u2Ac"
      }
    },
    {
      "cell_type": "code",
      "source": [
        "for i in range(5):\n",
        "  print(i)"
      ],
      "metadata": {
        "colab": {
          "base_uri": "https://localhost:8080/"
        },
        "id": "bah53_eNwtWw",
        "outputId": "0cc55f53-4c94-4c05-c35f-e744500bde1e"
      },
      "execution_count": 73,
      "outputs": [
        {
          "output_type": "stream",
          "name": "stdout",
          "text": [
            "0\n",
            "1\n",
            "2\n",
            "3\n",
            "4\n"
          ]
        }
      ]
    },
    {
      "cell_type": "markdown",
      "source": [
        "#List Assignments"
      ],
      "metadata": {
        "id": "cHYqP7IMCN1r"
      }
    },
    {
      "cell_type": "code",
      "source": [
        "countries = [\"UK\", \"USA\", \"Chad\", \"Australia\", \"Thailand\"]\n",
        "\n",
        "countries[3] = \"Mexico\" # Changes index 3 (Australia) to Mexico\n",
        "countries[0] = \"Iceland\" # Changes index 0 (UK) to Iceland\n",
        "countries[1] = countries[4] # Makes index 1 (USA) into inex 4 (Thailand)\n",
        "\n",
        "print(countries) # should be Iceland, Thailand, Chad, Mexico, Thailand"
      ],
      "metadata": {
        "colab": {
          "base_uri": "https://localhost:8080/"
        },
        "id": "rqnPn3iYCXHI",
        "outputId": "7d100067-5bd0-4c6b-8b2e-afaaf4982c37"
      },
      "execution_count": 74,
      "outputs": [
        {
          "output_type": "stream",
          "name": "stdout",
          "text": [
            "['Iceland', 'Thailand', 'Chad', 'Mexico', 'Thailand']\n"
          ]
        }
      ]
    },
    {
      "cell_type": "code",
      "source": [
        "squareNumbers = [1, 4, 9, 16, 25, 36]\n",
        "\n",
        "squareNumbers[5] = 49 # Changes index 5 (36) into 49\n",
        "squareNumbers[0] += 1 # Adds 1 to index 0 (1) to make it 2\n",
        "\n",
        "# List should be 2, 4, 9, 16, 25, 49\n",
        "print(squareNumbers)\n",
        "\n",
        "total = squareNumbers[3] - squareNumbers[1] # takes index 3 (16) and subtracts index 1 (4), assigns to var total\n",
        "print(total) # should be 12"
      ],
      "metadata": {
        "colab": {
          "base_uri": "https://localhost:8080/"
        },
        "id": "uhH9kBb0DHqm",
        "outputId": "0a165cb0-874e-4eb3-b441-5bbbbe71c5f9"
      },
      "execution_count": 76,
      "outputs": [
        {
          "output_type": "stream",
          "name": "stdout",
          "text": [
            "[2, 4, 9, 16, 25, 49]\n",
            "12\n"
          ]
        }
      ]
    }
  ]
}