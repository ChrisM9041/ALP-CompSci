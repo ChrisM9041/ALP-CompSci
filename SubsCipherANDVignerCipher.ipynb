{
  "nbformat": 4,
  "nbformat_minor": 0,
  "metadata": {
    "colab": {
      "provenance": [],
      "include_colab_link": true
    },
    "kernelspec": {
      "name": "python3",
      "display_name": "Python 3"
    },
    "language_info": {
      "name": "python"
    }
  },
  "cells": [
    {
      "cell_type": "markdown",
      "metadata": {
        "id": "view-in-github",
        "colab_type": "text"
      },
      "source": [
        "<a href=\"https://colab.research.google.com/github/ChrisM9041/ALP-CompSci/blob/main/SubsCipherANDVignerCipher.ipynb\" target=\"_parent\"><img src=\"https://colab.research.google.com/assets/colab-badge.svg\" alt=\"Open In Colab\"/></a>"
      ]
    },
    {
      "cell_type": "code",
      "execution_count": null,
      "metadata": {
        "id": "DdYVlFP1VI70"
      },
      "outputs": [],
      "source": []
    },
    {
      "cell_type": "markdown",
      "source": [
        "# More Ciphers\n",
        "\n",
        "## Substitution Cipher\n",
        "\n",
        "Yesterday you did the caeser shift and today we will do a similar cipher. Instead of shifting the letters we will substitute them with another letter.\n",
        "\n",
        "Below you will find an incomplete code that is one way to do the Substituion Cipher. Try to see if you can finish it.\n",
        "\n",
        "After you finish the code then try to make your own variation."
      ],
      "metadata": {
        "id": "nJiSe-fYVMhS"
      }
    },
    {
      "cell_type": "code",
      "source": [
        "import random\n",
        "\n",
        "alpha = \"abcdefghijklmnopqrstuvwxyzABCDEFGHIJKLMNOPQRSTUVWXYZ \"\n",
        "\n",
        "def sub_encode(text, codebet):\n",
        "    answerList = []\n",
        "    for letter in text:\n",
        "        ind = alpha.index(letter)\n",
        "        answerList.append(codebet[ind])\n",
        "    encode = \"\".join(answerList)\n",
        "    return encode\n",
        "\n",
        "def sub_decode(text, codebet):\n",
        "    decodeList = []\n",
        "    for letter in text:\n",
        "        ind = codebet.index(letter)\n",
        "        decodeList.append(alpha[ind])\n",
        "    decode = \"\".join(decodeList)\n",
        "    return decode\n",
        "\n",
        "test = \"HELLOWORLD\"\n",
        "\n",
        "# randomly mixed alphabets\n",
        "cipher_alphabet = ''.join(random.sample(alpha, len(alpha)))\n",
        "\n",
        "enc = sub_encode(test, cipher_alphabet)\n",
        "\n",
        "\n",
        "dec = sub_decode(enc, cipher_alphabet)\n",
        "print(enc)\n",
        "print(dec)\n",
        "\n",
        "# If this worked, dec should be the same as the input.\n"
      ],
      "metadata": {
        "id": "92bv5mNyVrpk",
        "colab": {
          "base_uri": "https://localhost:8080/"
        },
        "outputId": "7de96503-2258-4f82-df20-e89074e41b6b"
      },
      "execution_count": 7,
      "outputs": [
        {
          "output_type": "stream",
          "name": "stdout",
          "text": [
            "YThhojofhU\n",
            "HELLOWORLD\n"
          ]
        }
      ]
    },
    {
      "cell_type": "code",
      "source": [
        "#If stuck ask EA for hints.\n"
      ],
      "metadata": {
        "id": "cSJoLcIGW7n9"
      },
      "execution_count": null,
      "outputs": []
    },
    {
      "cell_type": "markdown",
      "source": [
        "#Gradio\n",
        "\n",
        "Try using gradio. To import it you first must install it into google colab. To install something you can use the 'pip' command.\n",
        "\n",
        "```\n",
        "# Run the following in a code block\n",
        "\n",
        "!pip install gradio\n",
        "```\n",
        "\n"
      ],
      "metadata": {
        "id": "VES5r87tXNMm"
      }
    },
    {
      "cell_type": "code",
      "source": [
        "!pip install gradio"
      ],
      "metadata": {
        "id": "ADWZJhpEWsXb"
      },
      "execution_count": null,
      "outputs": []
    },
    {
      "cell_type": "code",
      "source": [
        "#Here is some example code that you may run.\n",
        "#There is a link that you can use to see it in the browser.\n",
        "\n",
        "import gradio as gr\n",
        "\n",
        "def greet(name, intensity):\n",
        "    return \"Hello, \" + name + \"!\" * int(intensity)\n",
        "\n",
        "demo = gr.Interface(\n",
        "    fn=greet,\n",
        "    inputs=[\"text\", \"slider\"],\n",
        "    outputs=[\"text\"],\n",
        ")\n",
        "\n",
        "demo.launch()\n",
        "\n"
      ],
      "metadata": {
        "colab": {
          "base_uri": "https://localhost:8080/",
          "height": 646
        },
        "id": "Tb8QvfwFXcIu",
        "outputId": "aded0312-4443-467f-a12b-6b61706170e2"
      },
      "execution_count": 8,
      "outputs": [
        {
          "output_type": "stream",
          "name": "stdout",
          "text": [
            "Setting queue=True in a Colab notebook requires sharing enabled. Setting `share=True` (you can turn this off by setting `share=False` in `launch()` explicitly).\n",
            "\n",
            "Colab notebook detected. To show errors in colab notebook, set debug=True in launch()\n",
            "Running on public URL: https://5718b63b6c9f2314d7.gradio.live\n",
            "\n",
            "This share link expires in 72 hours. For free permanent hosting and GPU upgrades, run `gradio deploy` from Terminal to deploy to Spaces (https://huggingface.co/spaces)\n"
          ]
        },
        {
          "output_type": "display_data",
          "data": {
            "text/plain": [
              "<IPython.core.display.HTML object>"
            ],
            "text/html": [
              "<div><iframe src=\"https://5718b63b6c9f2314d7.gradio.live\" width=\"100%\" height=\"500\" allow=\"autoplay; camera; microphone; clipboard-read; clipboard-write;\" frameborder=\"0\" allowfullscreen></iframe></div>"
            ]
          },
          "metadata": {}
        },
        {
          "output_type": "execute_result",
          "data": {
            "text/plain": []
          },
          "metadata": {},
          "execution_count": 8
        }
      ]
    },
    {
      "cell_type": "markdown",
      "source": [
        "You will need to look through the documentation to figure out how to use [Gradio](https://www.gradio.app/)"
      ],
      "metadata": {
        "id": "0mo96bReaU40"
      }
    },
    {
      "cell_type": "markdown",
      "source": [
        "#Vigner Cipher\n",
        "\n",
        "Given below is the Vigner Cipher. Yes, it is a working code.\n",
        "\n",
        "1. Your task is to understand how this Vigner Cipher works and wirte comments for the code.\n",
        "\n",
        "2. Time permitting, modify the code and make a gradio app to interact with the Vigner Cipher"
      ],
      "metadata": {
        "id": "hn_ikt66Y0Jp"
      }
    },
    {
      "cell_type": "code",
      "source": [
        "from math import ceil #imprts ceil for use in line 23 - lets us get an int out of (len(test) / len(vig_key)) instead of a float for the range\n",
        "\n",
        "alpha = \"ABCDEFGHIJKLMNOPQRSTUVWXYZ \"\n",
        "\n",
        "def vig_encode(text, keyword):\n",
        "    encoded = []\n",
        "    for i in range(len(text)):\n",
        "        num = alpha.index(text[i]) + alpha.index(keyword[i]) # adds index of letter in text and keyword\n",
        "        encoded.append(alpha[num % len(alpha)]) # new letter is added to encoded based of text index + key word index\n",
        "    return \"\".join(encoded)\n",
        "\n",
        "def vig_decode(text, keyword):\n",
        "    decoded = []\n",
        "    for i in range(len(text)):\n",
        "        num = alpha.index(text[i]) - alpha.index(keyword[i]) # subtracts index of keyword letter from encoded letter\n",
        "        decoded.append(alpha[num % len(alpha)]) # new letter is added to decoded based off of text index - key word index\n",
        "    return \"\".join(decoded)\n",
        "\n",
        "test = input(\"Enter message to encode: \").upper()\n",
        "vig_key = input(\"Enter keyword: \").upper()\n",
        "\n",
        "keyList = []\n",
        "for i in range(ceil(len(test) / len(vig_key))): # makes sure that the vig_key is at least as long as test so that it has enough characters to do the cipher\n",
        "    keyList.append(vig_key)\n",
        "vig_key = \"\".join(keyList)\n",
        "\n",
        "enc = vig_encode(test, vig_key)\n",
        "dec = vig_decode(enc, vig_key)\n",
        "print(enc)\n",
        "print(dec)\n",
        "\n"
      ],
      "metadata": {
        "id": "1clgQ-O-ZQRK",
        "outputId": "65dc6dde-ebc9-4194-bfac-45c51ed460ab",
        "colab": {
          "base_uri": "https://localhost:8080/"
        }
      },
      "execution_count": 11,
      "outputs": [
        {
          "output_type": "stream",
          "name": "stdout",
          "text": [
            "Enter message to encode: h\n",
            "Enter keyword: b\n",
            "I\n",
            "H\n"
          ]
        }
      ]
    },
    {
      "cell_type": "markdown",
      "source": [
        "#Explain the Vigner Cipher\n",
        "\n",
        "Please explain how the Vigner Cipher works."
      ],
      "metadata": {
        "id": "UkIeCKglbXRR"
      }
    },
    {
      "cell_type": "code",
      "source": [
        "# The text input is shifted according to the key, the index of the input is added to the index of the\n",
        "# key resulting in a shift of the index from the letter in the key.\n",
        "# For example if you use input = h and key = b, then the encoded text will be I because it shifted it\n",
        "# by the key's index which was 1."
      ],
      "metadata": {
        "id": "wEIW_up6ZY3a"
      },
      "execution_count": null,
      "outputs": []
    }
  ]
}