{
  "nbformat": 4,
  "nbformat_minor": 0,
  "metadata": {
    "colab": {
      "provenance": [],
      "authorship_tag": "ABX9TyPzQzNxyFPECfSOvRu/BCkS",
      "include_colab_link": true
    },
    "kernelspec": {
      "name": "python3",
      "display_name": "Python 3"
    },
    "language_info": {
      "name": "python"
    }
  },
  "cells": [
    {
      "cell_type": "markdown",
      "metadata": {
        "id": "view-in-github",
        "colab_type": "text"
      },
      "source": [
        "<a href=\"https://colab.research.google.com/github/ChrisM9041/ALP-CompSci/blob/main/1st_day_compsci.ipynb\" target=\"_parent\"><img src=\"https://colab.research.google.com/assets/colab-badge.svg\" alt=\"Open In Colab\"/></a>"
      ]
    },
    {
      "cell_type": "code",
      "execution_count": null,
      "metadata": {
        "colab": {
          "base_uri": "https://localhost:8080/"
        },
        "id": "W_3gh2YSzMDL",
        "outputId": "db2b89a4-b7dd-4c54-b66b-e0378120267e"
      },
      "outputs": [
        {
          "output_type": "stream",
          "name": "stdout",
          "text": [
            "What's orange and sounds like a parrot\n",
            "\n",
            "a carrot\n"
          ]
        }
      ],
      "source": [
        "print(\"What's orange and sounds like a parrot\")\n",
        "print(\"\")\n",
        "print(\"a carrot\")\n",
        "\n",
        "# Task Investigate\n"
      ]
    },
    {
      "cell_type": "code",
      "source": [
        "favColor = \"Blue\" # defines favColor as Blue\n",
        "print(f\"My favorite color is {favColor}\") # prints using f string"
      ],
      "metadata": {
        "colab": {
          "base_uri": "https://localhost:8080/"
        },
        "id": "WR8Py4oH_hdm",
        "outputId": "92b422bc-95d1-4094-9007-47e0d5d125ac"
      },
      "execution_count": null,
      "outputs": [
        {
          "output_type": "stream",
          "name": "stdout",
          "text": [
            "My favorite color is Blue\n"
          ]
        }
      ]
    },
    {
      "cell_type": "markdown",
      "source": [
        "#Variables"
      ],
      "metadata": {
        "id": "Zip9NSNoBpHr"
      }
    },
    {
      "cell_type": "code",
      "source": [
        "name1 = \"Duff\"\n",
        "name2 = \"Izzy\"\n",
        "name3 = \"Axl\"\n",
        "name4 = \"chris\"\n",
        "print(f\"{name1} and {name2} and {name3} and {name4}\")"
      ],
      "metadata": {
        "colab": {
          "base_uri": "https://localhost:8080/"
        },
        "id": "ob6p1ukQBckb",
        "outputId": "535ff0ba-755b-4347-9184-57c805ace074"
      },
      "execution_count": null,
      "outputs": [
        {
          "output_type": "stream",
          "name": "stdout",
          "text": [
            "Duff and Izzy and Axl and chris\n"
          ]
        }
      ]
    },
    {
      "cell_type": "markdown",
      "source": [
        "#Task 2"
      ],
      "metadata": {
        "id": "J2t839sOCQsP"
      }
    },
    {
      "cell_type": "code",
      "source": [
        "fav1 = \"pizza\"\n",
        "fav2 = \"spagetti\"\n",
        "\n",
        "print(f\"my first favorite food is {fav1}.\")\n",
        "print(f\"my second favorite food is {fav2}.\")\n",
        "\n",
        "print(f\"my favorite foods are {fav1} and {fav2}.\")"
      ],
      "metadata": {
        "colab": {
          "base_uri": "https://localhost:8080/"
        },
        "id": "myXR8ir7CJZz",
        "outputId": "8636c9c1-4d09-472f-ad4a-c67e1eeed71c"
      },
      "execution_count": null,
      "outputs": [
        {
          "output_type": "stream",
          "name": "stdout",
          "text": [
            "my first favorite food is pizza.\n",
            "my second favorite food is spagetti.\n",
            "my favorite foods are pizza and spagetti.\n"
          ]
        }
      ]
    },
    {
      "cell_type": "markdown",
      "source": [
        "#Input\n"
      ],
      "metadata": {
        "id": "1bkZA7WJD9V0"
      }
    },
    {
      "cell_type": "code",
      "source": [
        "name = input(\"Whats your name\") # defining name as the input\n",
        "\n",
        "print(f\"Hi {name} how are you?\") #printing using input"
      ],
      "metadata": {
        "colab": {
          "base_uri": "https://localhost:8080/"
        },
        "id": "BK8GV8zGEALx",
        "outputId": "b3a4e729-b7f2-476d-b130-77b9218441ce"
      },
      "execution_count": null,
      "outputs": [
        {
          "output_type": "stream",
          "name": "stdout",
          "text": [
            "Whats your nameChris\n",
            "Hi Chris how are you?\n"
          ]
        }
      ]
    },
    {
      "cell_type": "code",
      "source": [
        "name = input(\"What is your name \")\n",
        "answer = input(f\"Do you like programing {name}? \")\n",
        "if answer == \"Yes\":\n",
        "  print(\"Nice!\")\n",
        "else:\n",
        "  print(\"Dang!\")\n",
        "\n"
      ],
      "metadata": {
        "id": "IMPJkzftFc_T"
      },
      "execution_count": null,
      "outputs": []
    },
    {
      "cell_type": "markdown",
      "source": [
        "#Chatbot"
      ],
      "metadata": {
        "id": "KPsEiWfOHXHW"
      }
    },
    {
      "cell_type": "code",
      "source": [
        "name = input(\"Hello, what is your name? \")\n",
        "print(\"\")\n",
        "question1 = input(f\"Hello {name}, I have a few questions, first is what is your favorite color? \")\n",
        "print(f\"Nice {name}, I like {question1} too.\")\n",
        "print(\"\")\n",
        "question2 = input(\"My next question is what is your favorite food? \")\n",
        "print(f\"Mmmm, {question2} sounds yummy {name}.\")\n",
        "print(\"\")\n",
        "question3 = input(\"Last question is what do you like to do in your free time? \")\n",
        "print(f\"{name}, that sounds really fun.\")\n",
        "print(\"\")\n",
        "print(f\"So {name}, your favorite color is {question1}, you like to eat {question2}, and you like to {question3} in your free time, sounds great.\")"
      ],
      "metadata": {
        "id": "DVkx7Nx2HbMF"
      },
      "execution_count": null,
      "outputs": []
    },
    {
      "cell_type": "markdown",
      "source": [
        "#Math"
      ],
      "metadata": {
        "id": "3zH0XET3fSpR"
      }
    },
    {
      "cell_type": "markdown",
      "source": [
        "#Task 1"
      ],
      "metadata": {
        "id": "c8JHe1pPfoeT"
      }
    },
    {
      "cell_type": "code",
      "source": [
        "print(7//2)\n",
        "print(10/3)\n",
        "print(2.5*6.6)"
      ],
      "metadata": {
        "colab": {
          "base_uri": "https://localhost:8080/"
        },
        "id": "1JjWEgZbfISk",
        "outputId": "c32bcc43-5bc7-4cd5-889d-5389e9734d0d"
      },
      "execution_count": null,
      "outputs": [
        {
          "output_type": "stream",
          "name": "stdout",
          "text": [
            "3\n",
            "3.3333333333333335\n",
            "16.5\n"
          ]
        }
      ]
    },
    {
      "cell_type": "markdown",
      "source": [
        "Changing Variables"
      ],
      "metadata": {
        "id": "X77yilI-gl6u"
      }
    },
    {
      "cell_type": "code",
      "source": [
        "score = 2\n",
        "print(score)\n",
        "score += 4\n",
        "print(score)"
      ],
      "metadata": {
        "colab": {
          "base_uri": "https://localhost:8080/"
        },
        "id": "hEgEjV6pgr2h",
        "outputId": "2f850c28-c6a4-4349-b3cc-79214ab49c78"
      },
      "execution_count": null,
      "outputs": [
        {
          "output_type": "stream",
          "name": "stdout",
          "text": [
            "2\n",
            "6\n"
          ]
        }
      ]
    },
    {
      "cell_type": "markdown",
      "source": [
        "intagers"
      ],
      "metadata": {
        "id": "7QffZrSjiLFQ"
      }
    },
    {
      "cell_type": "code",
      "source": [
        "num1 = int(input(\"Enter a number\"))\n",
        "print(str(num1))"
      ],
      "metadata": {
        "colab": {
          "base_uri": "https://localhost:8080/"
        },
        "id": "jc_SnhjSiMiw",
        "outputId": "027c196a-616f-4edc-d47c-941abe44b456"
      },
      "execution_count": null,
      "outputs": [
        {
          "output_type": "stream",
          "name": "stdout",
          "text": [
            "Enter a number1\n",
            "1\n"
          ]
        }
      ]
    },
    {
      "cell_type": "markdown",
      "source": [
        "##Task 5"
      ],
      "metadata": {
        "id": "wp_MoIAci77o"
      }
    },
    {
      "cell_type": "markdown",
      "source": [
        "area or perimiter"
      ],
      "metadata": {
        "id": "9TL0lATVmjHv"
      }
    },
    {
      "cell_type": "code",
      "source": [
        "l = int(input(\"Hello, what length is your rectangle? \"))\n",
        "w = int(input(\"What's the width? \"))\n",
        "a_or_p = input(\"Do you want to find area or perimiter \")\n",
        "\n",
        "if a_or_p == \"area\" :\n",
        " area = l*w\n",
        " print(f\"The area is {area}\")\n",
        "elif a_or_p == \"perimiter\" :\n",
        " perimiter = 2*l + 2*w\n",
        " print(f\"The perimiter is {perimiter}\")\n"
      ],
      "metadata": {
        "colab": {
          "base_uri": "https://localhost:8080/"
        },
        "id": "LCJVKAx4jAER",
        "outputId": "06be0bdc-5234-4234-fa8c-d63619d81ec3"
      },
      "execution_count": null,
      "outputs": [
        {
          "output_type": "stream",
          "name": "stdout",
          "text": [
            "Hello, what length is your rectangle? 5\n",
            "What's the width? 5\n",
            "Do you want to find area or perimiter perimiter\n",
            "The area is 20\n"
          ]
        }
      ]
    },
    {
      "cell_type": "markdown",
      "source": [
        "tip"
      ],
      "metadata": {
        "id": "G-IQOnl5mn3i"
      }
    },
    {
      "cell_type": "code",
      "source": [
        "total = int(input(\"Hello, what is the price of the meal? \"))\n",
        "tip = total*0.2\n",
        "tip_and_total = total+tip\n",
        "print(f\"The tip is ${tip}, the total with tip is ${tip_and_total}\")"
      ],
      "metadata": {
        "colab": {
          "base_uri": "https://localhost:8080/"
        },
        "id": "pq-OV6lqmhVV",
        "outputId": "18abc09e-6e7b-42af-9fdd-42e9fa8b886b"
      },
      "execution_count": null,
      "outputs": [
        {
          "output_type": "stream",
          "name": "stdout",
          "text": [
            "Hello, what is the price of the meal? 40\n",
            "The tip is $8.0, the total with tip is 48.0\n"
          ]
        }
      ]
    },
    {
      "cell_type": "markdown",
      "source": [
        "volume and surface area"
      ],
      "metadata": {
        "id": "W-LTWti2nKIc"
      }
    },
    {
      "cell_type": "code",
      "source": [
        "l = int(input(\"What is the length \"))\n",
        "w = int(input(\"What is the width \"))\n",
        "h = int(input(\"What is the height \"))\n",
        "\n",
        "v_or_s = input(\"Do you want volume or surface area \")\n",
        "\n",
        "if v_or_s == \"volume\":\n",
        "  v = l*w*h\n",
        "  print(f\"The volume is {v}\")\n",
        "else:\n",
        "  p = 2*(w*l+h*l+h*w)\n",
        "  print(f\"The suraface area is {p}\")"
      ],
      "metadata": {
        "colab": {
          "base_uri": "https://localhost:8080/"
        },
        "id": "dS45017JnN5b",
        "outputId": "d15518f2-5f3d-463e-9809-4a091e9c7161"
      },
      "execution_count": null,
      "outputs": [
        {
          "output_type": "stream",
          "name": "stdout",
          "text": [
            "What is the length5\n",
            "What is the width5\n",
            "What is the height5\n",
            "Do you want volume or surface areasurface area\n",
            "The suraface area is 150\n"
          ]
        }
      ]
    },
    {
      "cell_type": "markdown",
      "source": [
        "#Boolean"
      ],
      "metadata": {
        "id": "IwZeuiGQrXi8"
      }
    },
    {
      "cell_type": "code",
      "source": [
        "num1 = 100\n",
        "num2 = 50\n",
        "\n",
        "if num1 > num2 :\n",
        "  print(\"num1 is bigger\")\n",
        "else :\n",
        "  print(\"num2 is bigger\")\n",
        "\n",
        "print(\"End of program\")"
      ],
      "metadata": {
        "colab": {
          "base_uri": "https://localhost:8080/"
        },
        "id": "k1iU8E21rWxN",
        "outputId": "9d61e0ca-da57-41fb-fa2a-152e5a9d4767"
      },
      "execution_count": null,
      "outputs": [
        {
          "output_type": "stream",
          "name": "stdout",
          "text": [
            "num1 is bigger\n",
            "End of program\n"
          ]
        }
      ]
    },
    {
      "cell_type": "markdown",
      "source": [
        "#Task 3&4"
      ],
      "metadata": {
        "id": "2J9WIwhDuVki"
      }
    },
    {
      "cell_type": "code",
      "source": [
        "password = \"1337\"\n",
        "guess = input(\"Guess the password \")\n",
        "\n",
        "if guess == password :\n",
        "  print(\"Password correct\")\n",
        "else:\n",
        "  print(\"Incorrect\")"
      ],
      "metadata": {
        "colab": {
          "base_uri": "https://localhost:8080/"
        },
        "id": "Bhx5BIOauZNc",
        "outputId": "040de142-b469-43f9-ff2e-ce1bab98383b"
      },
      "execution_count": null,
      "outputs": [
        {
          "output_type": "stream",
          "name": "stdout",
          "text": [
            "Guess the password 1337\n",
            "Password correct\n"
          ]
        }
      ]
    },
    {
      "cell_type": "code",
      "source": [
        "num1 = input(\"What's the first number? \")\n",
        "num2 = input(\"What's the second number? \")\n",
        "\n",
        "if num1 > num2 :\n",
        "  print(f\"{num1} is the biggest.\")\n",
        "elif num2 > num1:\n",
        "  print(f\"{num2} is the biggest.\")\n",
        "else :\n",
        "  print(\"They are equal.\")"
      ],
      "metadata": {
        "colab": {
          "base_uri": "https://localhost:8080/"
        },
        "id": "87D_pKymu7rh",
        "outputId": "6eb20ac6-adab-4e7c-da30-c4651d164095"
      },
      "execution_count": null,
      "outputs": [
        {
          "output_type": "stream",
          "name": "stdout",
          "text": [
            "What's the first number? 40\n",
            "What's the second number? 2\n",
            "40 is the biggest.\n"
          ]
        }
      ]
    },
    {
      "cell_type": "markdown",
      "source": [
        "#Elif"
      ],
      "metadata": {
        "id": "q05mo0Wj4nX4"
      }
    },
    {
      "cell_type": "code",
      "source": [
        "name = input(\"Hello, what is your name? \")\n",
        "subject = input(f\"{name} what subject are you studying? \")\n",
        "\n",
        "if subject == \"math\":\n",
        "  print(f\"{name}, for math go to room 311\")\n",
        "elif subject == \"science\":\n",
        "  print(f\"{name}, for science go to room 312\")\n",
        "elif subject == \"english\":\n",
        "  print(f\"{name}, for english go to room 313\")\n",
        "elif subject == \"social studies\":\n",
        "  print(f\"{name}, for social studies go to room 314\")\n",
        "else:\n",
        "  print(\"class not valid\")"
      ],
      "metadata": {
        "colab": {
          "base_uri": "https://localhost:8080/"
        },
        "id": "C667z6fQ6WGZ",
        "outputId": "e785dc9e-cf29-4d1b-b965-d6681a57fae2"
      },
      "execution_count": null,
      "outputs": [
        {
          "output_type": "stream",
          "name": "stdout",
          "text": [
            "Hello, what is your name? nate\n",
            "nate what subject are you studying? math\n",
            "nate, for math go to room 311\n"
          ]
        }
      ]
    },
    {
      "cell_type": "markdown",
      "source": [
        "Insult"
      ],
      "metadata": {
        "id": "gIK-ngUm9cZP"
      }
    },
    {
      "cell_type": "code",
      "source": [
        "name = input(\"Hello, what is your name? \")\n",
        "insult = int(input(\"Choose a number between 1 and 5 \"))\n",
        "\n",
        "if insult == 1:\n",
        "  print(\"Your HOLLLLOWWWW!\")\n",
        "elif insult == 2:\n",
        "  print(\"Your pretty, pretty ugly\")\n",
        "elif insult == 3:\n",
        "  print(\"The closest you'll come to a brainstorm is a light drizzle\")\n",
        "elif insult == 4:\n",
        "  print(\"Your an oxygen bandit\")\n",
        "else:\n",
        "  print(\"If ignorance is bliss, you must be estatic\")"
      ],
      "metadata": {
        "colab": {
          "base_uri": "https://localhost:8080/"
        },
        "id": "bfetjpDl9dpC",
        "outputId": "7bd96618-6b0c-4283-b047-f5e25fd90655"
      },
      "execution_count": null,
      "outputs": [
        {
          "output_type": "stream",
          "name": "stdout",
          "text": [
            "Hello, what is your name? Chris\n",
            "Choose a number between 1 and 5 2\n",
            "Your pretty, pretty ugly\n"
          ]
        }
      ]
    },
    {
      "cell_type": "markdown",
      "source": [
        "#loop"
      ],
      "metadata": {
        "id": "8b6OgDKkAIQ5"
      }
    },
    {
      "cell_type": "markdown",
      "source": [
        "secret num"
      ],
      "metadata": {
        "id": "7RIyc3_YBdOi"
      }
    },
    {
      "cell_type": "code",
      "source": [
        "secret_num = 7\n",
        "num = int(input(\"Guess a number \"))\n",
        "\n",
        "while num != secret_num :\n",
        "  num = int(input(\"Guess again \"))\n",
        "\n",
        "print(\"Good job\")"
      ],
      "metadata": {
        "id": "88I6K79pAIBn"
      },
      "execution_count": null,
      "outputs": []
    },
    {
      "cell_type": "markdown",
      "source": [
        "Times table"
      ],
      "metadata": {
        "id": "hxcvOVlZB3ZM"
      }
    },
    {
      "cell_type": "code",
      "source": [
        "num = 7\n",
        "\n",
        "while num <= 85:\n",
        "  print(num)\n",
        "  num += 7"
      ],
      "metadata": {
        "colab": {
          "base_uri": "https://localhost:8080/"
        },
        "id": "0fYRs0-0B7nc",
        "outputId": "d7639812-936f-4554-8fea-1a58b0bb89e5"
      },
      "execution_count": null,
      "outputs": [
        {
          "output_type": "stream",
          "name": "stdout",
          "text": [
            "7\n",
            "14\n",
            "21\n",
            "28\n",
            "35\n",
            "42\n",
            "49\n",
            "56\n",
            "63\n",
            "70\n",
            "77\n",
            "84\n"
          ]
        }
      ]
    },
    {
      "cell_type": "markdown",
      "source": [
        "Homework\n",
        "Cubes Cubes Cubes"
      ],
      "metadata": {
        "id": "LuWDXd3fEN8b"
      }
    },
    {
      "cell_type": "code",
      "source": [
        "num = int(input(\"How many cubic numbers do you want \"))\n",
        "j=1\n",
        "while j <= num :\n",
        "  print(j*j*j)\n",
        "  j+=1"
      ],
      "metadata": {
        "colab": {
          "base_uri": "https://localhost:8080/"
        },
        "id": "BzRHINseEPML",
        "outputId": "1f689db2-1298-496e-95de-b7c1f0187735"
      },
      "execution_count": null,
      "outputs": [
        {
          "output_type": "stream",
          "name": "stdout",
          "text": [
            "How many cubic numbers do you want 10\n",
            "1\n",
            "8\n",
            "27\n",
            "64\n",
            "125\n",
            "216\n",
            "343\n",
            "512\n",
            "729\n",
            "1000\n"
          ]
        }
      ]
    }
  ]
}