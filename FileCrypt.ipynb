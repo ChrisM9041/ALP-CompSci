{
  "nbformat": 4,
  "nbformat_minor": 0,
  "metadata": {
    "colab": {
      "provenance": [],
      "collapsed_sections": [
        "McdUqgIs5Ch9",
        "ufWkyotT4mi-"
      ],
      "mount_file_id": "1FT4gJ-B1U1UkbEVemFU6at0HkXtlYicy",
      "authorship_tag": "ABX9TyOUOUyvGnuUvDXiA6Wx3p+P",
      "include_colab_link": true
    },
    "kernelspec": {
      "name": "python3",
      "display_name": "Python 3"
    },
    "language_info": {
      "name": "python"
    }
  },
  "cells": [
    {
      "cell_type": "markdown",
      "metadata": {
        "id": "view-in-github",
        "colab_type": "text"
      },
      "source": [
        "<a href=\"https://colab.research.google.com/github/ChrisM9041/ALP-CompSci/blob/main/FileCrypt.ipynb\" target=\"_parent\"><img src=\"https://colab.research.google.com/assets/colab-badge.svg\" alt=\"Open In Colab\"/></a>"
      ]
    },
    {
      "cell_type": "code",
      "source": [
        "alpha = \"ABCDEFGHIJKLMNOPQRSTUVWXYZ1234567890.,-'() \"\n",
        "\n",
        "def caesar_encode(text, n):\n",
        "    answerList = []\n",
        "    for letter in text:\n",
        "        letter = letter.upper()\n",
        "        if letter in alpha:\n",
        "            ind = alpha.index(letter)\n",
        "            ind += n\n",
        "            ind = ind % len(alpha)\n",
        "            answerList.append(alpha[ind])\n",
        "    return \"\".join(answerList)\n",
        "\n",
        "def caesar_decode(text, n):\n",
        "    answerList = []\n",
        "    for letter in text:\n",
        "        if letter in alpha:\n",
        "            ind = alpha.index(letter)\n",
        "            ind -= n\n",
        "            ind = ind % len(alpha)\n",
        "            answerList.append(alpha[ind])\n",
        "    return \"\".join(answerList)\n",
        "\n",
        "decision = input(\"Do you want to encode or decode a file (e/d): \")\n",
        "file = input(\"Enter file path: \")\n",
        "shift = int(input(\"Enter shift: \"))\n",
        "\n",
        "with open(file, \"r\") as f:\n",
        "    lines = f.readlines()\n",
        "\n",
        "if decision.lower() == \"d\":\n",
        "    with open('/content/f2.txt', \"w\") as f2:\n",
        "        for line in lines:\n",
        "            decoded_line = caesar_decode(line.upper(), shift)\n",
        "            f2.write(decoded_line + '\\n')\n",
        "elif decision.lower() == \"e\":\n",
        "    with open(\"/content/f.txt\", \"w\") as f:\n",
        "        for line in lines:\n",
        "            encoded_line = caesar_encode(line.upper(), shift)\n",
        "            f.write(encoded_line + '\\n')"
      ],
      "metadata": {
        "id": "qJmtZJe3B9gT",
        "colab": {
          "base_uri": "https://localhost:8080/"
        },
        "outputId": "6e8bcd2a-d132-4e91-c999-9ee846645743"
      },
      "execution_count": 2,
      "outputs": [
        {
          "name": "stdout",
          "output_type": "stream",
          "text": [
            "Do you want to encode or decode a file (e/d): d\n",
            "Enter file path: /content/f.txt\n",
            "Enter shift: 4\n"
          ]
        }
      ]
    }
  ]
}