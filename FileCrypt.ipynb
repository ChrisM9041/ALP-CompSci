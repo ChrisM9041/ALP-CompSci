{
  "nbformat": 4,
  "nbformat_minor": 0,
  "metadata": {
    "colab": {
      "provenance": [],
      "collapsed_sections": [
        "McdUqgIs5Ch9",
        "ufWkyotT4mi-"
      ],
      "mount_file_id": "1FT4gJ-B1U1UkbEVemFU6at0HkXtlYicy",
      "authorship_tag": "ABX9TyP3SWmjkF0OY4PtB5Wh05oY",
      "include_colab_link": true
    },
    "kernelspec": {
      "name": "python3",
      "display_name": "Python 3"
    },
    "language_info": {
      "name": "python"
    }
  },
  "cells": [
    {
      "cell_type": "markdown",
      "metadata": {
        "id": "view-in-github",
        "colab_type": "text"
      },
      "source": [
        "<a href=\"https://colab.research.google.com/github/ChrisM9041/ALP-CompSci/blob/main/FileCrypt.ipynb\" target=\"_parent\"><img src=\"https://colab.research.google.com/assets/colab-badge.svg\" alt=\"Open In Colab\"/></a>"
      ]
    },
    {
      "cell_type": "markdown",
      "source": [
        "#Bad"
      ],
      "metadata": {
        "id": "McdUqgIs5Ch9"
      }
    },
    {
      "cell_type": "code",
      "execution_count": null,
      "metadata": {
        "id": "7KUr1_x4EHR1",
        "colab": {
          "base_uri": "https://localhost:8080/",
          "height": 356
        },
        "outputId": "80ffd59d-e224-4607-99de-18a4b444dcff"
      },
      "outputs": [
        {
          "output_type": "error",
          "ename": "KeyboardInterrupt",
          "evalue": "Interrupted by user",
          "traceback": [
            "\u001b[0;31m---------------------------------------------------------------------------\u001b[0m",
            "\u001b[0;31mKeyboardInterrupt\u001b[0m                         Traceback (most recent call last)",
            "\u001b[0;32m<ipython-input-75-b855df979948>\u001b[0m in \u001b[0;36m<cell line: 25>\u001b[0;34m()\u001b[0m\n\u001b[1;32m     23\u001b[0m \u001b[0mwords\u001b[0m \u001b[0;34m=\u001b[0m \u001b[0mtest\u001b[0m\u001b[0;34m.\u001b[0m\u001b[0mread\u001b[0m\u001b[0;34m(\u001b[0m\u001b[0;34m)\u001b[0m\u001b[0;34m\u001b[0m\u001b[0;34m\u001b[0m\u001b[0m\n\u001b[1;32m     24\u001b[0m \u001b[0mwords\u001b[0m \u001b[0;34m=\u001b[0m \u001b[0mwords\u001b[0m\u001b[0;34m.\u001b[0m\u001b[0mupper\u001b[0m\u001b[0;34m(\u001b[0m\u001b[0;34m)\u001b[0m\u001b[0;34m\u001b[0m\u001b[0;34m\u001b[0m\u001b[0m\n\u001b[0;32m---> 25\u001b[0;31m \u001b[0mshift\u001b[0m \u001b[0;34m=\u001b[0m \u001b[0mint\u001b[0m\u001b[0;34m(\u001b[0m\u001b[0minput\u001b[0m\u001b[0;34m(\u001b[0m\u001b[0;34m\"Enter shift: \"\u001b[0m\u001b[0;34m)\u001b[0m\u001b[0;34m)\u001b[0m\u001b[0;34m\u001b[0m\u001b[0;34m\u001b[0m\u001b[0m\n\u001b[0m\u001b[1;32m     26\u001b[0m \u001b[0;34m\u001b[0m\u001b[0m\n\u001b[1;32m     27\u001b[0m \u001b[0menc\u001b[0m \u001b[0;34m=\u001b[0m \u001b[0mcaesar_encode\u001b[0m\u001b[0;34m(\u001b[0m\u001b[0mwords\u001b[0m\u001b[0;34m,\u001b[0m \u001b[0mshift\u001b[0m\u001b[0;34m)\u001b[0m\u001b[0;34m\u001b[0m\u001b[0;34m\u001b[0m\u001b[0m\n",
            "\u001b[0;32m/usr/local/lib/python3.10/dist-packages/ipykernel/kernelbase.py\u001b[0m in \u001b[0;36mraw_input\u001b[0;34m(self, prompt)\u001b[0m\n\u001b[1;32m    849\u001b[0m                 \u001b[0;34m\"raw_input was called, but this frontend does not support input requests.\"\u001b[0m\u001b[0;34m\u001b[0m\u001b[0;34m\u001b[0m\u001b[0m\n\u001b[1;32m    850\u001b[0m             )\n\u001b[0;32m--> 851\u001b[0;31m         return self._input_request(str(prompt),\n\u001b[0m\u001b[1;32m    852\u001b[0m             \u001b[0mself\u001b[0m\u001b[0;34m.\u001b[0m\u001b[0m_parent_ident\u001b[0m\u001b[0;34m,\u001b[0m\u001b[0;34m\u001b[0m\u001b[0;34m\u001b[0m\u001b[0m\n\u001b[1;32m    853\u001b[0m             \u001b[0mself\u001b[0m\u001b[0;34m.\u001b[0m\u001b[0m_parent_header\u001b[0m\u001b[0;34m,\u001b[0m\u001b[0;34m\u001b[0m\u001b[0;34m\u001b[0m\u001b[0m\n",
            "\u001b[0;32m/usr/local/lib/python3.10/dist-packages/ipykernel/kernelbase.py\u001b[0m in \u001b[0;36m_input_request\u001b[0;34m(self, prompt, ident, parent, password)\u001b[0m\n\u001b[1;32m    893\u001b[0m             \u001b[0;32mexcept\u001b[0m \u001b[0mKeyboardInterrupt\u001b[0m\u001b[0;34m:\u001b[0m\u001b[0;34m\u001b[0m\u001b[0;34m\u001b[0m\u001b[0m\n\u001b[1;32m    894\u001b[0m                 \u001b[0;31m# re-raise KeyboardInterrupt, to truncate traceback\u001b[0m\u001b[0;34m\u001b[0m\u001b[0;34m\u001b[0m\u001b[0m\n\u001b[0;32m--> 895\u001b[0;31m                 \u001b[0;32mraise\u001b[0m \u001b[0mKeyboardInterrupt\u001b[0m\u001b[0;34m(\u001b[0m\u001b[0;34m\"Interrupted by user\"\u001b[0m\u001b[0;34m)\u001b[0m \u001b[0;32mfrom\u001b[0m \u001b[0;32mNone\u001b[0m\u001b[0;34m\u001b[0m\u001b[0;34m\u001b[0m\u001b[0m\n\u001b[0m\u001b[1;32m    896\u001b[0m             \u001b[0;32mexcept\u001b[0m \u001b[0mException\u001b[0m \u001b[0;32mas\u001b[0m \u001b[0me\u001b[0m\u001b[0;34m:\u001b[0m\u001b[0;34m\u001b[0m\u001b[0;34m\u001b[0m\u001b[0m\n\u001b[1;32m    897\u001b[0m                 \u001b[0mself\u001b[0m\u001b[0;34m.\u001b[0m\u001b[0mlog\u001b[0m\u001b[0;34m.\u001b[0m\u001b[0mwarning\u001b[0m\u001b[0;34m(\u001b[0m\u001b[0;34m\"Invalid Message:\"\u001b[0m\u001b[0;34m,\u001b[0m \u001b[0mexc_info\u001b[0m\u001b[0;34m=\u001b[0m\u001b[0;32mTrue\u001b[0m\u001b[0;34m)\u001b[0m\u001b[0;34m\u001b[0m\u001b[0;34m\u001b[0m\u001b[0m\n",
            "\u001b[0;31mKeyboardInterrupt\u001b[0m: Interrupted by user"
          ]
        }
      ],
      "source": [
        "alpha = \"ABCDEFGHIJKLMNOPQRSTUVWXYZ1234567890.,-'() \"\n",
        "\n",
        "def caesar_encode(text, n):\n",
        "    answerList = []\n",
        "    for letter in text:\n",
        "        letter = letter.upper()\n",
        "        ind = alpha.index(letter)\n",
        "        ind += n\n",
        "        ind = ind % len(alpha)\n",
        "        answerList.append(alpha[ind])\n",
        "    return \"\".join(answerList)\n",
        "\n",
        "def caesar_decode(text, n):\n",
        "    answerList = []\n",
        "    for letter in text:\n",
        "        ind = alpha.index(letter)\n",
        "        ind -= n\n",
        "        ind = ind % len(alpha)\n",
        "        answerList.append(alpha[ind])\n",
        "    return \"\".join(answerList)\n",
        "\n",
        "test = open(\"/content/Test.txt\", \"r\")\n",
        "words = test.read()\n",
        "words = words.upper()\n",
        "shift = int(input(\"Enter shift: \"))\n",
        "\n",
        "enc = caesar_encode(words, shift)\n",
        "print(enc)\n",
        "\n",
        "dec = caesar_decode(enc, shift)\n",
        "print(dec)"
      ]
    },
    {
      "cell_type": "markdown",
      "source": [
        "#Good"
      ],
      "metadata": {
        "id": "ufWkyotT4mi-"
      }
    },
    {
      "cell_type": "code",
      "source": [
        "alpha = \"ABCDEFGHIJKLMNOPQRSTUVWXYZ1234567890.,-'() \"\n",
        "\n",
        "def caesar_encode(text, n):\n",
        "    answerList = []\n",
        "    for letter in text:\n",
        "        letter = letter.upper() # Convert to uppercase to match alpha\n",
        "        if letter in alpha: # Check if the letter exists in alpha\n",
        "            ind = alpha.index(letter)\n",
        "            ind += n\n",
        "            ind = ind % len(alpha)\n",
        "            answerList.append(alpha[ind])\n",
        "    return \"\".join(answerList)\n",
        "\n",
        "def caesar_decode(text, n):\n",
        "    answerList = []\n",
        "    for letter in text:\n",
        "        if letter in alpha: # Check if the letter exists in alpha\n",
        "            ind = alpha.index(letter)\n",
        "            ind -= n\n",
        "            ind = ind % len(alpha)\n",
        "            answerList.append(alpha[ind])\n",
        "    return \"\".join(answerList)\n",
        "\n",
        "decision = input(\"Do you want to encode or decode a file: \")\n",
        "file = input(\"Enter file path: \")\n",
        "shift = int(input(\"Enter shift: \"))\n",
        "test = open(file, \"r\")\n",
        "words = test.read()\n",
        "words = words.upper()\n",
        "\n",
        "\n",
        "enc = caesar_encode(words, shift)\n",
        "dec = caesar_decode(words, shift)\n",
        "\n",
        "\n",
        "if decision == \"d\":\n",
        "  with open('/content/f2.txt', \"w\") as f2:\n",
        "      f2.write(dec)\n",
        "elif decision == \"e\":\n",
        "  with open(\"/content/f.txt\", \"w\") as f:\n",
        "      f.write(enc)\n",
        "\n"
      ],
      "metadata": {
        "id": "gNIZd-z9zbpR"
      },
      "execution_count": null,
      "outputs": []
    },
    {
      "cell_type": "code",
      "source": [
        "from google.colab import drive\n",
        "drive.mount('/content/drive')"
      ],
      "metadata": {
        "id": "vQbs2-mb2_L2"
      },
      "execution_count": null,
      "outputs": []
    },
    {
      "cell_type": "markdown",
      "source": [
        "#Best"
      ],
      "metadata": {
        "id": "UpEYSPQjB66U"
      }
    },
    {
      "cell_type": "code",
      "source": [
        "alpha = \"ABCDEFGHIJKLMNOPQRSTUVWXYZ1234567890.,-'() \"\n",
        "\n",
        "def caesar_encode(text, n):\n",
        "    answerList = []\n",
        "    for letter in text:\n",
        "        letter = letter.upper()\n",
        "        if letter in alpha:\n",
        "            ind = alpha.index(letter)\n",
        "            ind += n\n",
        "            ind = ind % len(alpha)\n",
        "            answerList.append(alpha[ind])\n",
        "    return \"\".join(answerList)\n",
        "\n",
        "def caesar_decode(text, n):\n",
        "    answerList = []\n",
        "    for letter in text:\n",
        "        if letter in alpha:\n",
        "            ind = alpha.index(letter)\n",
        "            ind -= n\n",
        "            ind = ind % len(alpha)\n",
        "            answerList.append(alpha[ind])\n",
        "    return \"\".join(answerList)\n",
        "\n",
        "decision = input(\"Do you want to encode or decode a file (e/d): \")\n",
        "file = input(\"Enter file path: \")\n",
        "shift = int(input(\"Enter shift: \"))\n",
        "\n",
        "with open(file, \"r\") as f:\n",
        "    lines = f.readlines()\n",
        "\n",
        "if decision.lower() == \"d\":\n",
        "    with open('/content/f2.txt', \"w\") as f2:\n",
        "        for line in lines:\n",
        "            decoded_line = caesar_decode(line.upper(), shift)\n",
        "            f2.write(decoded_line + '\\n')\n",
        "elif decision.lower() == \"e\":\n",
        "    with open(\"/content/f.txt\", \"w\") as f:\n",
        "        for line in lines:\n",
        "            encoded_line = caesar_encode(line.upper(), shift)\n",
        "            f.write(encoded_line + '\\n')"
      ],
      "metadata": {
        "id": "qJmtZJe3B9gT",
        "colab": {
          "base_uri": "https://localhost:8080/"
        },
        "outputId": "a588ef5c-1da2-4dc9-e042-d172b507a6b6"
      },
      "execution_count": null,
      "outputs": [
        {
          "name": "stdout",
          "output_type": "stream",
          "text": [
            "Do you want to encode or decode a file (e/d): d\n",
            "Enter file path: /content/f.txt\n",
            "Enter shift: 4\n"
          ]
        }
      ]
    }
  ]
}